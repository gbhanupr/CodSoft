{
  "nbformat": 4,
  "nbformat_minor": 0,
  "metadata": {
    "colab": {
      "provenance": [],
      "authorship_tag": "ABX9TyMyLgLTP8juTP6jf0i74YUk",
      "include_colab_link": true
    },
    "kernelspec": {
      "name": "python3",
      "display_name": "Python 3"
    },
    "language_info": {
      "name": "python"
    }
  },
  "cells": [
    {
      "cell_type": "markdown",
      "metadata": {
        "id": "view-in-github",
        "colab_type": "text"
      },
      "source": [
        "<a href=\"https://colab.research.google.com/github/gbhanupr/CodSoft/blob/main/Chartboard.ipynb\" target=\"_parent\"><img src=\"https://colab.research.google.com/assets/colab-badge.svg\" alt=\"Open In Colab\"/></a>"
      ]
    },
    {
      "cell_type": "code",
      "execution_count": null,
      "metadata": {
        "colab": {
          "base_uri": "https://localhost:8080/"
        },
        "id": "U6gdrCLM__iE",
        "outputId": "c0d7a36e-7542-4e99-f09e-0a1b9f1ffa5a"
      },
      "outputs": [
        {
          "name": "stdout",
          "output_type": "stream",
          "text": [
            "Hi, I'm your helpful chatbot. Type 'quit' to exit.\n",
            "User: hi\n",
            "Chatbot: Hi there! How can I be of assistance today?\n",
            "User: how are you\n",
            "Chatbot: I'm doing well, thank you for asking! How are you?\n",
            "User: fine\n",
            "Chatbot: That's great to hear!\n",
            "User: quit\n"
          ]
        }
      ],
      "source": [
        "import re\n",
        "patterns_responses = {\n",
        "    r'hi|hello|hey': \"Hi there! How can I be of assistance today?\",\n",
        "    r'how are you|what\\'s up|how\\'s it going': \"I'm doing well, thank you for asking! How are you?\",\n",
        "    r'good|well|fine': \"That's great to hear!\",\n",
        "    r'bad|not good|not well': \"I'm sorry to hear that. Is there anything I can do to help?\",\n",
        "    r'thanks|thank you': \"You're welcome! I'm always happy to help.\",\n",
        "    r'bye|goodbye|exit': \"Goodbye! Have a wonderful day.\",\n",
        "    r'.*': \"I'm not sure how to help with that. Can you rephrase your question?\"\n",
        "}\n",
        "\n",
        "def chat_with_bot():\n",
        "    print(\"Hi, I'm your helpful chatbot. Type 'quit' to exit.\")\n",
        "    while True:\n",
        "        user_input = input(\"User: \")\n",
        "        if user_input.lower() == 'quit':\n",
        "            break\n",
        "        else:\n",
        "            print(\"Chatbot: \" + get_response(user_input))\n",
        "\n",
        "def get_response(user_input):\n",
        "    for pattern, response in patterns_responses.items():\n",
        "        if re.search(pattern, user_input.lower()):\n",
        "            return response\n",
        "    return patterns_responses['.*']\n",
        "\n",
        "chat_with_bot()"
      ]
    }
  ]
}