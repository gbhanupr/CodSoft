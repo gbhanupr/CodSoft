{
  "nbformat": 4,
  "nbformat_minor": 0,
  "metadata": {
    "colab": {
      "provenance": [],
      "authorship_tag": "ABX9TyMjXrvA9JopHgKAl+4/1rDl",
      "include_colab_link": true
    },
    "kernelspec": {
      "name": "python3",
      "display_name": "Python 3"
    },
    "language_info": {
      "name": "python"
    }
  },
  "cells": [
    {
      "cell_type": "markdown",
      "metadata": {
        "id": "view-in-github",
        "colab_type": "text"
      },
      "source": [
        "<a href=\"https://colab.research.google.com/github/gbhanupr/CodSoft/blob/main/Recommendation_System.ipynb\" target=\"_parent\"><img src=\"https://colab.research.google.com/assets/colab-badge.svg\" alt=\"Open In Colab\"/></a>"
      ]
    },
    {
      "cell_type": "code",
      "execution_count": null,
      "metadata": {
        "colab": {
          "base_uri": "https://localhost:8080/"
        },
        "id": "25oUa8v0_JrN",
        "outputId": "96838224-c451-4d68-8525-18b68d758278"
      },
      "outputs": [
        {
          "output_type": "stream",
          "name": "stdout",
          "text": [
            "Recommended movies for user 3: ['movie_1']\n"
          ]
        }
      ],
      "source": [
        "import pandas as pd\n",
        "from sklearn.metrics.pairwise import cosine_similarity\n",
        "data = {\n",
        "    'user_id': [1, 2, 3, 4],\n",
        "    'movie_1': [5, 4, 0, 1],\n",
        "    'movie_2': [3, 0, 4, 2],\n",
        "    'movie_3': [4, 5, 4, 0]\n",
        "}\n",
        "ratings_df = pd.DataFrame(data).set_index('user_id')\n",
        "\n",
        "movie_similarity = cosine_similarity(ratings_df.T)\n",
        "movie_similarity_df = pd.DataFrame(movie_similarity, index=ratings_df.columns, columns=ratings_df.columns)\n",
        "\n",
        "def recommend_movies(user_id):\n",
        "\n",
        "    user_ratings = ratings_df.loc[user_id]\n",
        "\n",
        "    similar_movies = movie_similarity_df['movie_1'].sort_values(ascending=False)\n",
        "\n",
        "    recommended_movies = [movie for movie in similar_movies.index if user_ratings[movie] == 0]\n",
        "\n",
        "    return recommended_movies\n",
        "\n",
        "print(\"Recommended movies for user 3:\", recommend_movies(user_id=3))"
      ]
    }
  ]
}